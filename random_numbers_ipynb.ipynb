{
 "cells": [
  {
   "cell_type": "code",
   "execution_count": 48,
   "id": "ccbb5b5d",
   "metadata": {},
   "outputs": [],
   "source": [
    "# Dependencies\n",
    "\n",
    "import random\n",
    "import numpy as np\n",
    "import timeit\n",
    "\n"
   ]
  },
  {
   "cell_type": "code",
   "execution_count": 49,
   "id": "416af288",
   "metadata": {},
   "outputs": [
    {
     "data": {
      "text/plain": [
       "50"
      ]
     },
     "execution_count": 49,
     "metadata": {},
     "output_type": "execute_result"
    }
   ],
   "source": [
    "random.randint(-90, 90)\n"
   ]
  },
  {
   "cell_type": "code",
   "execution_count": 50,
   "id": "08ea7c6e",
   "metadata": {},
   "outputs": [
    {
     "data": {
      "text/plain": [
       "0.9767082686681222"
      ]
     },
     "execution_count": 50,
     "metadata": {},
     "output_type": "execute_result"
    }
   ],
   "source": [
    "random.random()\n"
   ]
  },
  {
   "cell_type": "code",
   "execution_count": 51,
   "id": "a75b8db9",
   "metadata": {},
   "outputs": [
    {
     "data": {
      "text/plain": [
       "17.442698995900823"
      ]
     },
     "execution_count": 51,
     "metadata": {},
     "output_type": "execute_result"
    }
   ],
   "source": [
    "random_number = random.randint(-90, 89) + random.random()\n",
    "random_number\n"
   ]
  },
  {
   "cell_type": "code",
   "execution_count": 52,
   "id": "1c5be70e",
   "metadata": {},
   "outputs": [
    {
     "name": "stdout",
     "output_type": "stream",
     "text": [
      "[10.201564780106574, 39.7550470755, -61.22726613054616, 87.51986060200156, 13.844482743279473, -15.987019993382944, 34.897330097235894, 18.302576889680402, 44.651555317286466, 65.6009508546121]\n"
     ]
    }
   ],
   "source": [
    "x = 1\n",
    "latitudes = []\n",
    "while x < 11:\n",
    "    random_lat = random.randint(-90, 89) + random.random()\n",
    "    latitudes.append(random_lat)\n",
    "    x += 1\n",
    "print(latitudes)\n"
   ]
  },
  {
   "cell_type": "code",
   "execution_count": 53,
   "id": "34b2dc35",
   "metadata": {},
   "outputs": [
    {
     "data": {
      "text/plain": [
       "6"
      ]
     },
     "execution_count": 53,
     "metadata": {},
     "output_type": "execute_result"
    }
   ],
   "source": [
    "random.randrange(-90, 90, step=1)\n"
   ]
  },
  {
   "cell_type": "code",
   "execution_count": 54,
   "id": "b5b8326a",
   "metadata": {},
   "outputs": [
    {
     "data": {
      "text/plain": [
       "88.50598879375391"
      ]
     },
     "execution_count": 54,
     "metadata": {},
     "output_type": "execute_result"
    }
   ],
   "source": [
    "random.uniform(-90, 90)\n"
   ]
  },
  {
   "cell_type": "code",
   "execution_count": 55,
   "id": "feb38d99",
   "metadata": {},
   "outputs": [
    {
     "data": {
      "text/plain": [
       "array([-21.77322223, -81.76401532,  58.08495105, -40.70623547,\n",
       "        61.13002207,  47.72482986, -27.99703366,  43.30536721,\n",
       "        -6.93424008,  85.26701102,  -9.64111134,  54.06629654,\n",
       "        52.02877221, -25.97011985,   8.55537893, -35.25417361,\n",
       "         0.35963901,  59.49518908, -30.91760884, -49.64024821,\n",
       "       -14.94073484,  36.39017971, -87.98130102,  89.9702255 ,\n",
       "        -8.83263241, -79.98582738, -89.03918915, -77.63414876,\n",
       "        30.65734572, -23.65347756, -31.95117887,  -5.35836994,\n",
       "        16.38277616,  24.87453253,  -0.22552446,  43.62046906,\n",
       "        87.67597539,  70.1028377 , -10.64716918, -74.83096964,\n",
       "       -77.2234414 ,  -8.32780483,  78.36810651,  18.14754718,\n",
       "        52.12933063,  27.86020947, -40.11061839,  70.31407003,\n",
       "        28.11762577,  64.04434044])"
      ]
     },
     "execution_count": 55,
     "metadata": {},
     "output_type": "execute_result"
    }
   ],
   "source": [
    "np.random.uniform(-90.000, 90.000, size=50)\n"
   ]
  },
  {
   "cell_type": "code",
   "execution_count": 56,
   "id": "5a91f2a9",
   "metadata": {},
   "outputs": [
    {
     "name": "stdout",
     "output_type": "stream",
     "text": [
      "15.8 µs ± 372 ns per loop (mean ± std. dev. of 7 runs, 100000 loops each)\n"
     ]
    }
   ],
   "source": [
    "%timeit np.random.uniform(-90.000, 90.000, size=1500)\n"
   ]
  },
  {
   "cell_type": "code",
   "execution_count": 58,
   "id": "a01429a8",
   "metadata": {},
   "outputs": [
    {
     "name": "stdout",
     "output_type": "stream",
     "text": [
      "2.33 ms ± 39.4 µs per loop (mean ± std. dev. of 7 runs, 100 loops each)\n"
     ]
    }
   ],
   "source": [
    "def latitudes(size):\n",
    "    latitudes = []\n",
    "    x = 0\n",
    "    while x < (size):\n",
    "        random_lat = random.randint(-90, 90) + random.random()\n",
    "        latitudes.append(random_lat)\n",
    "        x += 1\n",
    "    return latitudes\n",
    "# Call the function with 1500.\n",
    "%timeit latitudes(1500)\n"
   ]
  },
  {
   "cell_type": "code",
   "execution_count": null,
   "id": "38dc1da3",
   "metadata": {},
   "outputs": [],
   "source": []
  }
 ],
 "metadata": {
  "kernelspec": {
   "display_name": "PythonData",
   "language": "python",
   "name": "pythondata"
  },
  "language_info": {
   "codemirror_mode": {
    "name": "ipython",
    "version": 3
   },
   "file_extension": ".py",
   "mimetype": "text/x-python",
   "name": "python",
   "nbconvert_exporter": "python",
   "pygments_lexer": "ipython3",
   "version": "3.7.13"
  }
 },
 "nbformat": 4,
 "nbformat_minor": 5
}
