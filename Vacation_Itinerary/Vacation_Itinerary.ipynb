{
 "cells": [
  {
   "cell_type": "markdown",
   "id": "eae95c70",
   "metadata": {},
   "source": [
    "## Deliverable 3 Create a Travel Itinerary with a Correspoonding Map with Direction Layer\n",
    "\n"
   ]
  },
  {
   "cell_type": "code",
   "execution_count": 1,
   "id": "15dfdf54",
   "metadata": {},
   "outputs": [],
   "source": [
    "import pandas as pd\n",
    "import requests\n",
    "import gmaps\n",
    "\n",
    "from config import g_key\n",
    "\n",
    "gmaps.configure(api_key=g_key)\n"
   ]
  },
  {
   "cell_type": "code",
   "execution_count": 2,
   "id": "131c2271",
   "metadata": {},
   "outputs": [],
   "source": [
    "vacation_df = pd.read_csv(\"../Vacation_Search/WeatherPy_Vacation.csv\")\n"
   ]
  },
  {
   "cell_type": "code",
   "execution_count": 3,
   "id": "afc5f47c",
   "metadata": {},
   "outputs": [
    {
     "data": {
      "text/html": [
       "<div>\n",
       "<style scoped>\n",
       "    .dataframe tbody tr th:only-of-type {\n",
       "        vertical-align: middle;\n",
       "    }\n",
       "\n",
       "    .dataframe tbody tr th {\n",
       "        vertical-align: top;\n",
       "    }\n",
       "\n",
       "    .dataframe thead th {\n",
       "        text-align: right;\n",
       "    }\n",
       "</style>\n",
       "<table border=\"1\" class=\"dataframe\">\n",
       "  <thead>\n",
       "    <tr style=\"text-align: right;\">\n",
       "      <th></th>\n",
       "      <th>City_ID</th>\n",
       "      <th>City</th>\n",
       "      <th>Country</th>\n",
       "      <th>Max Temp</th>\n",
       "      <th>Lat</th>\n",
       "      <th>Lng</th>\n",
       "      <th>Current Description</th>\n",
       "      <th>Hotel Name</th>\n",
       "    </tr>\n",
       "  </thead>\n",
       "  <tbody>\n",
       "    <tr>\n",
       "      <th>0</th>\n",
       "      <td>3</td>\n",
       "      <td>hobyo</td>\n",
       "      <td>SO</td>\n",
       "      <td>80.83</td>\n",
       "      <td>5.3505</td>\n",
       "      <td>48.5268</td>\n",
       "      <td>broken clouds</td>\n",
       "      <td>Iftin hotel hobyo</td>\n",
       "    </tr>\n",
       "    <tr>\n",
       "      <th>1</th>\n",
       "      <td>8</td>\n",
       "      <td>caucaia</td>\n",
       "      <td>BR</td>\n",
       "      <td>79.03</td>\n",
       "      <td>-3.7361</td>\n",
       "      <td>-38.6531</td>\n",
       "      <td>few clouds</td>\n",
       "      <td>M.O.S. Logística - Filial Fortaleza</td>\n",
       "    </tr>\n",
       "    <tr>\n",
       "      <th>2</th>\n",
       "      <td>10</td>\n",
       "      <td>muros</td>\n",
       "      <td>ES</td>\n",
       "      <td>78.67</td>\n",
       "      <td>42.7762</td>\n",
       "      <td>-9.0603</td>\n",
       "      <td>few clouds</td>\n",
       "      <td>Apartment Av. Castelao</td>\n",
       "    </tr>\n",
       "    <tr>\n",
       "      <th>3</th>\n",
       "      <td>12</td>\n",
       "      <td>shakhtinsk</td>\n",
       "      <td>KZ</td>\n",
       "      <td>77.58</td>\n",
       "      <td>49.7100</td>\n",
       "      <td>72.5872</td>\n",
       "      <td>overcast clouds</td>\n",
       "      <td>Orifleym</td>\n",
       "    </tr>\n",
       "    <tr>\n",
       "      <th>4</th>\n",
       "      <td>23</td>\n",
       "      <td>nago</td>\n",
       "      <td>JP</td>\n",
       "      <td>84.63</td>\n",
       "      <td>26.5881</td>\n",
       "      <td>127.9761</td>\n",
       "      <td>overcast clouds</td>\n",
       "      <td>Hotel Yugaf Inn Okinawa</td>\n",
       "    </tr>\n",
       "  </tbody>\n",
       "</table>\n",
       "</div>"
      ],
      "text/plain": [
       "   City_ID        City Country  Max Temp      Lat       Lng  \\\n",
       "0        3       hobyo      SO     80.83   5.3505   48.5268   \n",
       "1        8     caucaia      BR     79.03  -3.7361  -38.6531   \n",
       "2       10       muros      ES     78.67  42.7762   -9.0603   \n",
       "3       12  shakhtinsk      KZ     77.58  49.7100   72.5872   \n",
       "4       23        nago      JP     84.63  26.5881  127.9761   \n",
       "\n",
       "  Current Description                           Hotel Name  \n",
       "0       broken clouds                    Iftin hotel hobyo  \n",
       "1          few clouds  M.O.S. Logística - Filial Fortaleza  \n",
       "2          few clouds               Apartment Av. Castelao  \n",
       "3     overcast clouds                             Orifleym  \n",
       "4     overcast clouds              Hotel Yugaf Inn Okinawa  "
      ]
     },
     "execution_count": 3,
     "metadata": {},
     "output_type": "execute_result"
    }
   ],
   "source": [
    "vacation_df.head()"
   ]
  },
  {
   "cell_type": "code",
   "execution_count": 4,
   "id": "a67afafc",
   "metadata": {},
   "outputs": [],
   "source": [
    "# Using the template add the hotel marks to the heatmap\n",
    "\n",
    "info_box_template = '''\n",
    "<dl>\n",
    "<dt>Hotel Name</dt><dd>{Hotel Name}</dd>\n",
    "<dt>City</dt><dd>{City}</dd>\n",
    "<dt>Country</dt><dd>{Country}</dd>\n",
    "<dt>Current Description</dt><dd>{Current Description} at {Max Temp}</dd>\n",
    "'''\n",
    "hotel_info = [info_box_template.format(**row) for index, row in vacation_df.iterrows()]\n",
    "\n",
    "locations = vacation_df[['Lat', 'Lng']]\n"
   ]
  },
  {
   "cell_type": "code",
   "execution_count": 5,
   "id": "1c75de0d",
   "metadata": {},
   "outputs": [
    {
     "data": {
      "application/vnd.jupyter.widget-view+json": {
       "model_id": "517876f0eee641f898fc1124fafebc5b",
       "version_major": 2,
       "version_minor": 0
      },
      "text/plain": [
       "Figure(layout=FigureLayout(height='420px'))"
      ]
     },
     "metadata": {},
     "output_type": "display_data"
    }
   ],
   "source": [
    "marker_layer = gmaps.marker_layer(locations, info_box_content=hotel_info)\n",
    "fig = gmaps.figure()\n",
    "fig.add_layer(marker_layer)\n",
    "\n",
    "fig"
   ]
  },
  {
   "cell_type": "code",
   "execution_count": 6,
   "id": "0306b721",
   "metadata": {},
   "outputs": [],
   "source": [
    "# From the map above pick 4 cities and create a vacation itinerary route to travel between the four cities. \n",
    "# 5. Create DataFrames for each city by filtering the 'vacation_df' using the loc method. \n",
    "# Hint: The starting and ending city should be the same city.\n",
    "\n",
    "vacation_start = vacation_df.loc[(vacation_df[\"City\"] == \"danvers\") & (vacation_df[\"Hotel Name\"] == \"Sonesta Select Boston Danvers\")]\n",
    "vacation_end = vacation_df.loc[(vacation_df[\"City\"] == \"danvers\") & (vacation_df[\"Hotel Name\"] == \"Sonesta Select Boston Danvers\")]\n",
    "vacation_stop1 = vacation_df.loc[(vacation_df[\"City\"] == \"nantucket\") & (vacation_df[\"Hotel Name\"] == \"Jared Coffin House\")]\n",
    "vacation_stop2 = vacation_df.loc[(vacation_df[\"City\"] == \"shelton\") & (vacation_df[\"Hotel Name\"] == \"Hilton Garden Inn Shelton\")]\n",
    "vacation_stop3 = vacation_df.loc[(vacation_df[\"City\"] == \"bethel\") & (vacation_df[\"Hotel Name\"] == \"Courtyard by Marriott Danbury\")] \n"
   ]
  },
  {
   "cell_type": "code",
   "execution_count": 7,
   "id": "2f5ce91b",
   "metadata": {},
   "outputs": [
    {
     "data": {
      "text/html": [
       "<div>\n",
       "<style scoped>\n",
       "    .dataframe tbody tr th:only-of-type {\n",
       "        vertical-align: middle;\n",
       "    }\n",
       "\n",
       "    .dataframe tbody tr th {\n",
       "        vertical-align: top;\n",
       "    }\n",
       "\n",
       "    .dataframe thead th {\n",
       "        text-align: right;\n",
       "    }\n",
       "</style>\n",
       "<table border=\"1\" class=\"dataframe\">\n",
       "  <thead>\n",
       "    <tr style=\"text-align: right;\">\n",
       "      <th></th>\n",
       "      <th>City_ID</th>\n",
       "      <th>City</th>\n",
       "      <th>Country</th>\n",
       "      <th>Max Temp</th>\n",
       "      <th>Lat</th>\n",
       "      <th>Lng</th>\n",
       "      <th>Current Description</th>\n",
       "      <th>Hotel Name</th>\n",
       "    </tr>\n",
       "  </thead>\n",
       "  <tbody>\n",
       "    <tr>\n",
       "      <th>100</th>\n",
       "      <td>356</td>\n",
       "      <td>danvers</td>\n",
       "      <td>US</td>\n",
       "      <td>75.16</td>\n",
       "      <td>42.5751</td>\n",
       "      <td>-70.9301</td>\n",
       "      <td>clear sky</td>\n",
       "      <td>Sonesta Select Boston Danvers</td>\n",
       "    </tr>\n",
       "  </tbody>\n",
       "</table>\n",
       "</div>"
      ],
      "text/plain": [
       "     City_ID     City Country  Max Temp      Lat      Lng Current Description  \\\n",
       "100      356  danvers      US     75.16  42.5751 -70.9301           clear sky   \n",
       "\n",
       "                        Hotel Name  \n",
       "100  Sonesta Select Boston Danvers  "
      ]
     },
     "execution_count": 7,
     "metadata": {},
     "output_type": "execute_result"
    }
   ],
   "source": [
    "vacation_start\n"
   ]
  },
  {
   "cell_type": "code",
   "execution_count": 8,
   "id": "24373fb0",
   "metadata": {},
   "outputs": [
    {
     "data": {
      "text/html": [
       "<div>\n",
       "<style scoped>\n",
       "    .dataframe tbody tr th:only-of-type {\n",
       "        vertical-align: middle;\n",
       "    }\n",
       "\n",
       "    .dataframe tbody tr th {\n",
       "        vertical-align: top;\n",
       "    }\n",
       "\n",
       "    .dataframe thead th {\n",
       "        text-align: right;\n",
       "    }\n",
       "</style>\n",
       "<table border=\"1\" class=\"dataframe\">\n",
       "  <thead>\n",
       "    <tr style=\"text-align: right;\">\n",
       "      <th></th>\n",
       "      <th>City_ID</th>\n",
       "      <th>City</th>\n",
       "      <th>Country</th>\n",
       "      <th>Max Temp</th>\n",
       "      <th>Lat</th>\n",
       "      <th>Lng</th>\n",
       "      <th>Current Description</th>\n",
       "      <th>Hotel Name</th>\n",
       "    </tr>\n",
       "  </thead>\n",
       "  <tbody>\n",
       "    <tr>\n",
       "      <th>98</th>\n",
       "      <td>346</td>\n",
       "      <td>nantucket</td>\n",
       "      <td>US</td>\n",
       "      <td>75.31</td>\n",
       "      <td>41.2835</td>\n",
       "      <td>-70.0995</td>\n",
       "      <td>fog</td>\n",
       "      <td>Jared Coffin House</td>\n",
       "    </tr>\n",
       "  </tbody>\n",
       "</table>\n",
       "</div>"
      ],
      "text/plain": [
       "    City_ID       City Country  Max Temp      Lat      Lng  \\\n",
       "98      346  nantucket      US     75.31  41.2835 -70.0995   \n",
       "\n",
       "   Current Description          Hotel Name  \n",
       "98                 fog  Jared Coffin House  "
      ]
     },
     "execution_count": 8,
     "metadata": {},
     "output_type": "execute_result"
    }
   ],
   "source": [
    "vacation_stop1\n"
   ]
  },
  {
   "cell_type": "code",
   "execution_count": 9,
   "id": "466f20e5",
   "metadata": {},
   "outputs": [
    {
     "data": {
      "text/html": [
       "<div>\n",
       "<style scoped>\n",
       "    .dataframe tbody tr th:only-of-type {\n",
       "        vertical-align: middle;\n",
       "    }\n",
       "\n",
       "    .dataframe tbody tr th {\n",
       "        vertical-align: top;\n",
       "    }\n",
       "\n",
       "    .dataframe thead th {\n",
       "        text-align: right;\n",
       "    }\n",
       "</style>\n",
       "<table border=\"1\" class=\"dataframe\">\n",
       "  <thead>\n",
       "    <tr style=\"text-align: right;\">\n",
       "      <th></th>\n",
       "      <th>City_ID</th>\n",
       "      <th>City</th>\n",
       "      <th>Country</th>\n",
       "      <th>Max Temp</th>\n",
       "      <th>Lat</th>\n",
       "      <th>Lng</th>\n",
       "      <th>Current Description</th>\n",
       "      <th>Hotel Name</th>\n",
       "    </tr>\n",
       "  </thead>\n",
       "  <tbody>\n",
       "    <tr>\n",
       "      <th>129</th>\n",
       "      <td>441</td>\n",
       "      <td>shelton</td>\n",
       "      <td>US</td>\n",
       "      <td>77.52</td>\n",
       "      <td>41.3165</td>\n",
       "      <td>-73.0932</td>\n",
       "      <td>mist</td>\n",
       "      <td>Hilton Garden Inn Shelton</td>\n",
       "    </tr>\n",
       "  </tbody>\n",
       "</table>\n",
       "</div>"
      ],
      "text/plain": [
       "     City_ID     City Country  Max Temp      Lat      Lng Current Description  \\\n",
       "129      441  shelton      US     77.52  41.3165 -73.0932                mist   \n",
       "\n",
       "                    Hotel Name  \n",
       "129  Hilton Garden Inn Shelton  "
      ]
     },
     "execution_count": 9,
     "metadata": {},
     "output_type": "execute_result"
    }
   ],
   "source": [
    "vacation_stop2\n"
   ]
  },
  {
   "cell_type": "code",
   "execution_count": 10,
   "id": "11af4764",
   "metadata": {},
   "outputs": [
    {
     "data": {
      "text/html": [
       "<div>\n",
       "<style scoped>\n",
       "    .dataframe tbody tr th:only-of-type {\n",
       "        vertical-align: middle;\n",
       "    }\n",
       "\n",
       "    .dataframe tbody tr th {\n",
       "        vertical-align: top;\n",
       "    }\n",
       "\n",
       "    .dataframe thead th {\n",
       "        text-align: right;\n",
       "    }\n",
       "</style>\n",
       "<table border=\"1\" class=\"dataframe\">\n",
       "  <thead>\n",
       "    <tr style=\"text-align: right;\">\n",
       "      <th></th>\n",
       "      <th>City_ID</th>\n",
       "      <th>City</th>\n",
       "      <th>Country</th>\n",
       "      <th>Max Temp</th>\n",
       "      <th>Lat</th>\n",
       "      <th>Lng</th>\n",
       "      <th>Current Description</th>\n",
       "      <th>Hotel Name</th>\n",
       "    </tr>\n",
       "  </thead>\n",
       "  <tbody>\n",
       "    <tr>\n",
       "      <th>22</th>\n",
       "      <td>89</td>\n",
       "      <td>bethel</td>\n",
       "      <td>US</td>\n",
       "      <td>75.51</td>\n",
       "      <td>41.3712</td>\n",
       "      <td>-73.414</td>\n",
       "      <td>mist</td>\n",
       "      <td>Courtyard by Marriott Danbury</td>\n",
       "    </tr>\n",
       "  </tbody>\n",
       "</table>\n",
       "</div>"
      ],
      "text/plain": [
       "    City_ID    City Country  Max Temp      Lat     Lng Current Description  \\\n",
       "22       89  bethel      US     75.51  41.3712 -73.414                mist   \n",
       "\n",
       "                       Hotel Name  \n",
       "22  Courtyard by Marriott Danbury  "
      ]
     },
     "execution_count": 10,
     "metadata": {},
     "output_type": "execute_result"
    }
   ],
   "source": [
    "vacation_stop3 \n"
   ]
  },
  {
   "cell_type": "code",
   "execution_count": 16,
   "id": "c54bd468",
   "metadata": {},
   "outputs": [],
   "source": [
    "start = vacation_start[\"Lat\"].to_numpy()[0], vacation_start[\"Lng\"].to_numpy()[0]\n",
    "end = vacation_start[\"Lat\"].to_numpy()[0], vacation_start[\"Lng\"].to_numpy()[0]\n",
    "stop1 = vacation_stop1[\"Lat\"].to_numpy()[0], vacation_stop1[\"Lng\"].to_numpy()[0]\n",
    "stop2 = vacation_stop2[\"Lat\"].to_numpy()[0], vacation_stop2[\"Lng\"].to_numpy()[0]\n",
    "stop3 = vacation_stop3[\"Lat\"].to_numpy()[0], vacation_stop3[\"Lng\"].to_numpy()[0]\n"
   ]
  },
  {
   "cell_type": "code",
   "execution_count": 17,
   "id": "6e038985",
   "metadata": {},
   "outputs": [
    {
     "data": {
      "application/vnd.jupyter.widget-view+json": {
       "model_id": "1d957fb6678444d7aefdbf7531d81655",
       "version_major": 2,
       "version_minor": 0
      },
      "text/plain": [
       "Figure(layout=FigureLayout(height='420px'))"
      ]
     },
     "metadata": {},
     "output_type": "display_data"
    }
   ],
   "source": [
    "# 7. Create a direction layer map using the start and end latitude-longitude pairs,\n",
    "# and stop1, stop2, and stop3 as the waypoints. The travel_mode should be \"DRIVING\", \"BICYCLING\", or \"WALKING\".\n",
    "\n",
    "fig = gmaps.figure()\n",
    "city_itinerary = gmaps.directions_layer(\n",
    "        start, end, waypoints=[stop1, stop2, stop3],\n",
    "        travel_mode='DRIVING')\n",
    "\n",
    "fig.add_layer(city_itinerary)\n",
    "fig"
   ]
  },
  {
   "cell_type": "code",
   "execution_count": 25,
   "id": "0aac307e",
   "metadata": {},
   "outputs": [
    {
     "data": {
      "text/html": [
       "<div>\n",
       "<style scoped>\n",
       "    .dataframe tbody tr th:only-of-type {\n",
       "        vertical-align: middle;\n",
       "    }\n",
       "\n",
       "    .dataframe tbody tr th {\n",
       "        vertical-align: top;\n",
       "    }\n",
       "\n",
       "    .dataframe thead th {\n",
       "        text-align: right;\n",
       "    }\n",
       "</style>\n",
       "<table border=\"1\" class=\"dataframe\">\n",
       "  <thead>\n",
       "    <tr style=\"text-align: right;\">\n",
       "      <th></th>\n",
       "      <th>City_ID</th>\n",
       "      <th>City</th>\n",
       "      <th>Country</th>\n",
       "      <th>Max Temp</th>\n",
       "      <th>Lat</th>\n",
       "      <th>Lng</th>\n",
       "      <th>Current Description</th>\n",
       "      <th>Hotel Name</th>\n",
       "    </tr>\n",
       "  </thead>\n",
       "  <tbody>\n",
       "    <tr>\n",
       "      <th>100</th>\n",
       "      <td>356</td>\n",
       "      <td>danvers</td>\n",
       "      <td>US</td>\n",
       "      <td>75.16</td>\n",
       "      <td>42.5751</td>\n",
       "      <td>-70.9301</td>\n",
       "      <td>clear sky</td>\n",
       "      <td>Sonesta Select Boston Danvers</td>\n",
       "    </tr>\n",
       "    <tr>\n",
       "      <th>98</th>\n",
       "      <td>346</td>\n",
       "      <td>nantucket</td>\n",
       "      <td>US</td>\n",
       "      <td>75.31</td>\n",
       "      <td>41.2835</td>\n",
       "      <td>-70.0995</td>\n",
       "      <td>fog</td>\n",
       "      <td>Jared Coffin House</td>\n",
       "    </tr>\n",
       "    <tr>\n",
       "      <th>129</th>\n",
       "      <td>441</td>\n",
       "      <td>shelton</td>\n",
       "      <td>US</td>\n",
       "      <td>77.52</td>\n",
       "      <td>41.3165</td>\n",
       "      <td>-73.0932</td>\n",
       "      <td>mist</td>\n",
       "      <td>Hilton Garden Inn Shelton</td>\n",
       "    </tr>\n",
       "    <tr>\n",
       "      <th>22</th>\n",
       "      <td>89</td>\n",
       "      <td>bethel</td>\n",
       "      <td>US</td>\n",
       "      <td>75.51</td>\n",
       "      <td>41.3712</td>\n",
       "      <td>-73.4140</td>\n",
       "      <td>mist</td>\n",
       "      <td>Courtyard by Marriott Danbury</td>\n",
       "    </tr>\n",
       "    <tr>\n",
       "      <th>100</th>\n",
       "      <td>356</td>\n",
       "      <td>danvers</td>\n",
       "      <td>US</td>\n",
       "      <td>75.16</td>\n",
       "      <td>42.5751</td>\n",
       "      <td>-70.9301</td>\n",
       "      <td>clear sky</td>\n",
       "      <td>Sonesta Select Boston Danvers</td>\n",
       "    </tr>\n",
       "  </tbody>\n",
       "</table>\n",
       "</div>"
      ],
      "text/plain": [
       "     City_ID       City Country  Max Temp      Lat      Lng  \\\n",
       "100      356    danvers      US     75.16  42.5751 -70.9301   \n",
       "98       346  nantucket      US     75.31  41.2835 -70.0995   \n",
       "129      441    shelton      US     77.52  41.3165 -73.0932   \n",
       "22        89     bethel      US     75.51  41.3712 -73.4140   \n",
       "100      356    danvers      US     75.16  42.5751 -70.9301   \n",
       "\n",
       "    Current Description                     Hotel Name  \n",
       "100           clear sky  Sonesta Select Boston Danvers  \n",
       "98                  fog             Jared Coffin House  \n",
       "129                mist      Hilton Garden Inn Shelton  \n",
       "22                 mist  Courtyard by Marriott Danbury  \n",
       "100           clear sky  Sonesta Select Boston Danvers  "
      ]
     },
     "execution_count": 25,
     "metadata": {},
     "output_type": "execute_result"
    }
   ],
   "source": [
    "itinerary_df = pd.concat([vacation_start, vacation_stop1, vacation_stop2, vacation_stop3, vacation_end])\n",
    "itinerary_df\n"
   ]
  },
  {
   "cell_type": "code",
   "execution_count": 26,
   "id": "747f50cb",
   "metadata": {},
   "outputs": [
    {
     "data": {
      "text/html": [
       "<div>\n",
       "<style scoped>\n",
       "    .dataframe tbody tr th:only-of-type {\n",
       "        vertical-align: middle;\n",
       "    }\n",
       "\n",
       "    .dataframe tbody tr th {\n",
       "        vertical-align: top;\n",
       "    }\n",
       "\n",
       "    .dataframe thead th {\n",
       "        text-align: right;\n",
       "    }\n",
       "</style>\n",
       "<table border=\"1\" class=\"dataframe\">\n",
       "  <thead>\n",
       "    <tr style=\"text-align: right;\">\n",
       "      <th></th>\n",
       "      <th>City_ID</th>\n",
       "      <th>City</th>\n",
       "      <th>Country</th>\n",
       "      <th>Max Temp</th>\n",
       "      <th>Lat</th>\n",
       "      <th>Lng</th>\n",
       "      <th>Current Description</th>\n",
       "      <th>Hotel Name</th>\n",
       "    </tr>\n",
       "  </thead>\n",
       "  <tbody>\n",
       "    <tr>\n",
       "      <th>0</th>\n",
       "      <td>356</td>\n",
       "      <td>danvers</td>\n",
       "      <td>US</td>\n",
       "      <td>75.16</td>\n",
       "      <td>42.5751</td>\n",
       "      <td>-70.9301</td>\n",
       "      <td>clear sky</td>\n",
       "      <td>Sonesta Select Boston Danvers</td>\n",
       "    </tr>\n",
       "    <tr>\n",
       "      <th>1</th>\n",
       "      <td>346</td>\n",
       "      <td>nantucket</td>\n",
       "      <td>US</td>\n",
       "      <td>75.31</td>\n",
       "      <td>41.2835</td>\n",
       "      <td>-70.0995</td>\n",
       "      <td>fog</td>\n",
       "      <td>Jared Coffin House</td>\n",
       "    </tr>\n",
       "    <tr>\n",
       "      <th>2</th>\n",
       "      <td>441</td>\n",
       "      <td>shelton</td>\n",
       "      <td>US</td>\n",
       "      <td>77.52</td>\n",
       "      <td>41.3165</td>\n",
       "      <td>-73.0932</td>\n",
       "      <td>mist</td>\n",
       "      <td>Hilton Garden Inn Shelton</td>\n",
       "    </tr>\n",
       "    <tr>\n",
       "      <th>3</th>\n",
       "      <td>89</td>\n",
       "      <td>bethel</td>\n",
       "      <td>US</td>\n",
       "      <td>75.51</td>\n",
       "      <td>41.3712</td>\n",
       "      <td>-73.4140</td>\n",
       "      <td>mist</td>\n",
       "      <td>Courtyard by Marriott Danbury</td>\n",
       "    </tr>\n",
       "    <tr>\n",
       "      <th>4</th>\n",
       "      <td>356</td>\n",
       "      <td>danvers</td>\n",
       "      <td>US</td>\n",
       "      <td>75.16</td>\n",
       "      <td>42.5751</td>\n",
       "      <td>-70.9301</td>\n",
       "      <td>clear sky</td>\n",
       "      <td>Sonesta Select Boston Danvers</td>\n",
       "    </tr>\n",
       "  </tbody>\n",
       "</table>\n",
       "</div>"
      ],
      "text/plain": [
       "   City_ID       City Country  Max Temp      Lat      Lng Current Description  \\\n",
       "0      356    danvers      US     75.16  42.5751 -70.9301           clear sky   \n",
       "1      346  nantucket      US     75.31  41.2835 -70.0995                 fog   \n",
       "2      441    shelton      US     77.52  41.3165 -73.0932                mist   \n",
       "3       89     bethel      US     75.51  41.3712 -73.4140                mist   \n",
       "4      356    danvers      US     75.16  42.5751 -70.9301           clear sky   \n",
       "\n",
       "                      Hotel Name  \n",
       "0  Sonesta Select Boston Danvers  \n",
       "1             Jared Coffin House  \n",
       "2      Hilton Garden Inn Shelton  \n",
       "3  Courtyard by Marriott Danbury  \n",
       "4  Sonesta Select Boston Danvers  "
      ]
     },
     "execution_count": 26,
     "metadata": {},
     "output_type": "execute_result"
    }
   ],
   "source": [
    "itinerary_df.reset_index(drop=True)\n"
   ]
  },
  {
   "cell_type": "code",
   "execution_count": 27,
   "id": "e7bfe7af",
   "metadata": {},
   "outputs": [],
   "source": [
    "# Using the template add the hotel marks to the heatmap\n",
    "\n",
    "info_box_template = '''\n",
    "<dl>\n",
    "<dt>Hotel Name</dt><dd>{Hotel Name}</dd>\n",
    "<dt>City</dt><dd>{City}</dd>\n",
    "<dt>Country</dt><dd>{Country}</dd>\n",
    "<dt>Current Description</dt><dd>{Current Description} at {Max Temp}</dd>\n",
    "'''\n",
    "hotel_info = [info_box_template.format(**row) for index, row in itinerary_df.iterrows()]\n",
    "locations = itinerary_df[['Lat', 'Lng']]\n"
   ]
  },
  {
   "cell_type": "code",
   "execution_count": 28,
   "id": "e000f645",
   "metadata": {},
   "outputs": [
    {
     "data": {
      "application/vnd.jupyter.widget-view+json": {
       "model_id": "038a141556f6422296abfaa6a235d1fc",
       "version_major": 2,
       "version_minor": 0
      },
      "text/plain": [
       "Figure(layout=FigureLayout(height='420px'))"
      ]
     },
     "metadata": {},
     "output_type": "display_data"
    }
   ],
   "source": [
    "marker_layer = gmaps.marker_layer(locations, info_box_content=hotel_info)\n",
    "fig = gmaps.figure()\n",
    "fig.add_layer(marker_layer)\n",
    "\n",
    "fig\n"
   ]
  },
  {
   "cell_type": "code",
   "execution_count": null,
   "id": "802189c9",
   "metadata": {},
   "outputs": [],
   "source": []
  }
 ],
 "metadata": {
  "kernelspec": {
   "display_name": "PythonData",
   "language": "python",
   "name": "pythondata"
  },
  "language_info": {
   "codemirror_mode": {
    "name": "ipython",
    "version": 3
   },
   "file_extension": ".py",
   "mimetype": "text/x-python",
   "name": "python",
   "nbconvert_exporter": "python",
   "pygments_lexer": "ipython3",
   "version": "3.7.13"
  }
 },
 "nbformat": 4,
 "nbformat_minor": 5
}
