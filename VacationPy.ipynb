{
 "cells": [
  {
   "cell_type": "markdown",
   "id": "7c2a25cb",
   "metadata": {},
   "source": [
    "## 6.5.2 Create Heatmaps for Weather Parameters"
   ]
  },
  {
   "cell_type": "code",
   "execution_count": 1,
   "id": "004417cb",
   "metadata": {},
   "outputs": [],
   "source": [
    "# Import the dependencies.\n",
    "\n",
    "import pandas as pd\n",
    "import gmaps\n",
    "import requests\n",
    "\n",
    "# Import the API key.\n",
    "from config import g_key\n"
   ]
  },
  {
   "cell_type": "code",
   "execution_count": 2,
   "id": "62c3f5d0",
   "metadata": {
    "scrolled": true
   },
   "outputs": [
    {
     "data": {
      "text/html": [
       "<div>\n",
       "<style scoped>\n",
       "    .dataframe tbody tr th:only-of-type {\n",
       "        vertical-align: middle;\n",
       "    }\n",
       "\n",
       "    .dataframe tbody tr th {\n",
       "        vertical-align: top;\n",
       "    }\n",
       "\n",
       "    .dataframe thead th {\n",
       "        text-align: right;\n",
       "    }\n",
       "</style>\n",
       "<table border=\"1\" class=\"dataframe\">\n",
       "  <thead>\n",
       "    <tr style=\"text-align: right;\">\n",
       "      <th></th>\n",
       "      <th>City_ID</th>\n",
       "      <th>City</th>\n",
       "      <th>Country</th>\n",
       "      <th>Date</th>\n",
       "      <th>Lat</th>\n",
       "      <th>Lng</th>\n",
       "      <th>Max Temp</th>\n",
       "      <th>Humidity</th>\n",
       "      <th>Cloudiness</th>\n",
       "      <th>Wind Speed</th>\n",
       "    </tr>\n",
       "  </thead>\n",
       "  <tbody>\n",
       "    <tr>\n",
       "      <th>0</th>\n",
       "      <td>0</td>\n",
       "      <td>Bluff</td>\n",
       "      <td>NZ</td>\n",
       "      <td>7/14/2022 20:32</td>\n",
       "      <td>-46.6000</td>\n",
       "      <td>168.3333</td>\n",
       "      <td>37.796</td>\n",
       "      <td>83</td>\n",
       "      <td>100</td>\n",
       "      <td>7.11</td>\n",
       "    </tr>\n",
       "    <tr>\n",
       "      <th>1</th>\n",
       "      <td>1</td>\n",
       "      <td>Alofi</td>\n",
       "      <td>NU</td>\n",
       "      <td>7/14/2022 20:32</td>\n",
       "      <td>-19.0595</td>\n",
       "      <td>-169.9187</td>\n",
       "      <td>76.892</td>\n",
       "      <td>78</td>\n",
       "      <td>75</td>\n",
       "      <td>7.20</td>\n",
       "    </tr>\n",
       "    <tr>\n",
       "      <th>2</th>\n",
       "      <td>2</td>\n",
       "      <td>Bilibino</td>\n",
       "      <td>RU</td>\n",
       "      <td>7/14/2022 20:32</td>\n",
       "      <td>68.0546</td>\n",
       "      <td>166.4372</td>\n",
       "      <td>52.970</td>\n",
       "      <td>52</td>\n",
       "      <td>16</td>\n",
       "      <td>1.18</td>\n",
       "    </tr>\n",
       "    <tr>\n",
       "      <th>3</th>\n",
       "      <td>3</td>\n",
       "      <td>Pevek</td>\n",
       "      <td>RU</td>\n",
       "      <td>7/14/2022 20:32</td>\n",
       "      <td>69.7008</td>\n",
       "      <td>170.3133</td>\n",
       "      <td>34.088</td>\n",
       "      <td>84</td>\n",
       "      <td>5</td>\n",
       "      <td>5.75</td>\n",
       "    </tr>\n",
       "    <tr>\n",
       "      <th>4</th>\n",
       "      <td>4</td>\n",
       "      <td>Tigil</td>\n",
       "      <td>RU</td>\n",
       "      <td>7/14/2022 20:32</td>\n",
       "      <td>57.8000</td>\n",
       "      <td>158.6667</td>\n",
       "      <td>65.624</td>\n",
       "      <td>66</td>\n",
       "      <td>13</td>\n",
       "      <td>1.96</td>\n",
       "    </tr>\n",
       "  </tbody>\n",
       "</table>\n",
       "</div>"
      ],
      "text/plain": [
       "   City_ID      City Country             Date      Lat       Lng  Max Temp  \\\n",
       "0        0     Bluff      NZ  7/14/2022 20:32 -46.6000  168.3333    37.796   \n",
       "1        1     Alofi      NU  7/14/2022 20:32 -19.0595 -169.9187    76.892   \n",
       "2        2  Bilibino      RU  7/14/2022 20:32  68.0546  166.4372    52.970   \n",
       "3        3     Pevek      RU  7/14/2022 20:32  69.7008  170.3133    34.088   \n",
       "4        4     Tigil      RU  7/14/2022 20:32  57.8000  158.6667    65.624   \n",
       "\n",
       "   Humidity  Cloudiness  Wind Speed  \n",
       "0        83         100        7.11  \n",
       "1        78          75        7.20  \n",
       "2        52          16        1.18  \n",
       "3        84           5        5.75  \n",
       "4        66          13        1.96  "
      ]
     },
     "execution_count": 2,
     "metadata": {},
     "output_type": "execute_result"
    }
   ],
   "source": [
    "# Store the CSV you saved created in part one into a DataFrame.\n",
    "\n",
    "city_data_df = pd.read_csv(\"weather_data/cities.csv\")\n",
    "city_data_df.head()\n"
   ]
  },
  {
   "cell_type": "code",
   "execution_count": 3,
   "id": "cfeaa6b2",
   "metadata": {},
   "outputs": [
    {
     "data": {
      "text/plain": [
       "City_ID         int64\n",
       "City           object\n",
       "Country        object\n",
       "Date           object\n",
       "Lat           float64\n",
       "Lng           float64\n",
       "Max Temp      float64\n",
       "Humidity        int64\n",
       "Cloudiness      int64\n",
       "Wind Speed    float64\n",
       "dtype: object"
      ]
     },
     "execution_count": 3,
     "metadata": {},
     "output_type": "execute_result"
    }
   ],
   "source": [
    "# Get the data types.\n",
    "\n",
    "city_data_df.dtypes\n"
   ]
  },
  {
   "cell_type": "code",
   "execution_count": 4,
   "id": "82cd8ea0",
   "metadata": {},
   "outputs": [],
   "source": [
    "# Configure gmaps to use your Google API key.\n",
    "\n",
    "gmaps.configure(api_key=g_key)\n"
   ]
  },
  {
   "cell_type": "code",
   "execution_count": 5,
   "id": "15b98dbb",
   "metadata": {},
   "outputs": [],
   "source": [
    "# Get the maximum temperature.\n",
    "max_temp = city_data_df[\"Max Temp\"]\n",
    "temps = []\n",
    "for temp in max_temp:\n",
    "    temps.append(max(temp, 0))"
   ]
  },
  {
   "cell_type": "code",
   "execution_count": 6,
   "id": "79d54574",
   "metadata": {
    "scrolled": true
   },
   "outputs": [
    {
     "data": {
      "application/vnd.jupyter.widget-view+json": {
       "model_id": "71bfd879f2344f638970e203ef374444",
       "version_major": 2,
       "version_minor": 0
      },
      "text/plain": [
       "Figure(layout=FigureLayout(height='420px'))"
      ]
     },
     "metadata": {},
     "output_type": "display_data"
    }
   ],
   "source": [
    "# Heatmap of temperature\n",
    "\n",
    "# Get the latitude and longitude.\n",
    "locations = city_data_df[[\"Lat\", \"Lng\"]]\n",
    "\n",
    "# Get the maximum temperature.\n",
    "max_temp = city_data_df[\"Max Temp\"]\n",
    "\n",
    "# Assign the figure variable.\n",
    "fig = gmaps.figure(center=(30.0, 31.0), zoom_level=1.5)\n",
    "\n",
    "# Assign the heatmap variable.\n",
    "heat_layer = gmaps.heatmap_layer(locations, weights=temps, dissipating=False, max_intensity=300, point_radius=4)\n",
    "\n",
    "# Add the heatmap layer.\n",
    "fig.add_layer(heat_layer)\n",
    "\n",
    "# Call the figure to plot the data.\n",
    "fig\n"
   ]
  },
  {
   "cell_type": "code",
   "execution_count": 7,
   "id": "2deb1da4",
   "metadata": {},
   "outputs": [],
   "source": [
    "heat_layer = gmaps.heatmap_layer(locations, weights=[max(temp, 0) for temp in max_temp])"
   ]
  },
  {
   "cell_type": "markdown",
   "id": "37651fb0",
   "metadata": {},
   "source": [
    "## Create a Percent Humidity Heatmap\n"
   ]
  },
  {
   "cell_type": "code",
   "execution_count": 8,
   "id": "971bd39e",
   "metadata": {},
   "outputs": [
    {
     "data": {
      "application/vnd.jupyter.widget-view+json": {
       "model_id": "d81505a357494941a918f4aebd18f3eb",
       "version_major": 2,
       "version_minor": 0
      },
      "text/plain": [
       "Figure(layout=FigureLayout(height='420px'))"
      ]
     },
     "metadata": {},
     "output_type": "display_data"
    }
   ],
   "source": [
    "# Heatmap of percent humidity\n",
    "\n",
    "locations = city_data_df[[\"Lat\", \"Lng\"]]\n",
    "humidity = city_data_df[\"Humidity\"]\n",
    "fig = gmaps.figure(center=(30.0, 31.0), zoom_level=1.5)\n",
    "heat_layer = gmaps.heatmap_layer(locations, weights=humidity, dissipating=False, max_intensity=300, point_radius=4)\n",
    "\n",
    "fig.add_layer(heat_layer)\n",
    "\n",
    "# Call the figure to plot the data.\n",
    "fig\n"
   ]
  },
  {
   "cell_type": "markdown",
   "id": "395a3c98",
   "metadata": {},
   "source": [
    "## Create a Percent Cloudiness Heatmap\n"
   ]
  },
  {
   "cell_type": "code",
   "execution_count": 9,
   "id": "e0e7db16",
   "metadata": {},
   "outputs": [
    {
     "data": {
      "application/vnd.jupyter.widget-view+json": {
       "model_id": "3ac6fc40dc3446bfb68411ddcda10725",
       "version_major": 2,
       "version_minor": 0
      },
      "text/plain": [
       "Figure(layout=FigureLayout(height='420px'))"
      ]
     },
     "metadata": {},
     "output_type": "display_data"
    }
   ],
   "source": [
    "# Heatmap of percent cloudiness\n",
    "\n",
    "locations = city_data_df[[\"Lat\", \"Lng\"]]\n",
    "clouds = city_data_df[\"Cloudiness\"]\n",
    "fig = gmaps.figure(center=(30.0, 31.0), zoom_level=1.5)\n",
    "heat_layer = gmaps.heatmap_layer(locations, weights=clouds , dissipating=False, max_intensity=300, point_radius=4)\n",
    "\n",
    "fig.add_layer(heat_layer)\n",
    "\n",
    "# Call the figure to plot the data.\n",
    "\n",
    "fig\n"
   ]
  },
  {
   "cell_type": "markdown",
   "id": "beaa56ff",
   "metadata": {},
   "source": [
    "## Create a Wind Speed Heatmap"
   ]
  },
  {
   "cell_type": "code",
   "execution_count": 10,
   "id": "a5b051f3",
   "metadata": {},
   "outputs": [
    {
     "data": {
      "application/vnd.jupyter.widget-view+json": {
       "model_id": "e1576a43483c4f90a2f8000705a5e14e",
       "version_major": 2,
       "version_minor": 0
      },
      "text/plain": [
       "Figure(layout=FigureLayout(height='420px'))"
      ]
     },
     "metadata": {},
     "output_type": "display_data"
    }
   ],
   "source": [
    "# Heatmap of wind speed.\n",
    "\n",
    "locations = city_data_df[[\"Lat\", \"Lng\"]]\n",
    "wind = city_data_df[\"Wind Speed\"]\n",
    "fig = gmaps.figure(center=(30.0, 31.0), zoom_level=1.5)\n",
    "heat_layer = gmaps.heatmap_layer(locations, weights=wind , dissipating=False, max_intensity=300, point_radius=4)\n",
    "\n",
    "fig.add_layer(heat_layer)\n",
    "\n",
    "# Call the figure to plot the data.\n",
    "fig"
   ]
  },
  {
   "cell_type": "markdown",
   "id": "ccdad92f",
   "metadata": {},
   "source": [
    "## 6.5.3 Get Vacation Criteria"
   ]
  },
  {
   "cell_type": "code",
   "execution_count": 11,
   "id": "159be0c5",
   "metadata": {},
   "outputs": [
    {
     "name": "stdout",
     "output_type": "stream",
     "text": [
      "What is the minimum temperature you would like for your trip? 75\n",
      "What is the maximum temperature you would like for your trip? 90\n"
     ]
    }
   ],
   "source": [
    "# Ask the customer to add a minimum and maximum temperature value.\n",
    "\n",
    "min_temp = float(input(\"What is the minimum temperature you would like for your trip? \"))\n",
    "max_temp = float(input(\"What is the maximum temperature you would like for your trip? \"))\n"
   ]
  },
  {
   "cell_type": "code",
   "execution_count": 12,
   "id": "f552818f",
   "metadata": {},
   "outputs": [
    {
     "data": {
      "text/html": [
       "<div>\n",
       "<style scoped>\n",
       "    .dataframe tbody tr th:only-of-type {\n",
       "        vertical-align: middle;\n",
       "    }\n",
       "\n",
       "    .dataframe tbody tr th {\n",
       "        vertical-align: top;\n",
       "    }\n",
       "\n",
       "    .dataframe thead th {\n",
       "        text-align: right;\n",
       "    }\n",
       "</style>\n",
       "<table border=\"1\" class=\"dataframe\">\n",
       "  <thead>\n",
       "    <tr style=\"text-align: right;\">\n",
       "      <th></th>\n",
       "      <th>City_ID</th>\n",
       "      <th>City</th>\n",
       "      <th>Country</th>\n",
       "      <th>Date</th>\n",
       "      <th>Lat</th>\n",
       "      <th>Lng</th>\n",
       "      <th>Max Temp</th>\n",
       "      <th>Humidity</th>\n",
       "      <th>Cloudiness</th>\n",
       "      <th>Wind Speed</th>\n",
       "    </tr>\n",
       "  </thead>\n",
       "  <tbody>\n",
       "    <tr>\n",
       "      <th>1</th>\n",
       "      <td>1</td>\n",
       "      <td>Alofi</td>\n",
       "      <td>NU</td>\n",
       "      <td>7/14/2022 20:32</td>\n",
       "      <td>-19.0595</td>\n",
       "      <td>-169.9187</td>\n",
       "      <td>76.892</td>\n",
       "      <td>78</td>\n",
       "      <td>75</td>\n",
       "      <td>7.20</td>\n",
       "    </tr>\n",
       "    <tr>\n",
       "      <th>8</th>\n",
       "      <td>8</td>\n",
       "      <td>Albany</td>\n",
       "      <td>US</td>\n",
       "      <td>7/14/2022 20:31</td>\n",
       "      <td>42.6001</td>\n",
       "      <td>-73.9662</td>\n",
       "      <td>83.048</td>\n",
       "      <td>45</td>\n",
       "      <td>69</td>\n",
       "      <td>0.89</td>\n",
       "    </tr>\n",
       "    <tr>\n",
       "      <th>10</th>\n",
       "      <td>10</td>\n",
       "      <td>Faanui</td>\n",
       "      <td>PF</td>\n",
       "      <td>7/14/2022 20:32</td>\n",
       "      <td>-16.4833</td>\n",
       "      <td>-151.7500</td>\n",
       "      <td>77.828</td>\n",
       "      <td>63</td>\n",
       "      <td>100</td>\n",
       "      <td>10.54</td>\n",
       "    </tr>\n",
       "    <tr>\n",
       "      <th>13</th>\n",
       "      <td>13</td>\n",
       "      <td>Kieta</td>\n",
       "      <td>PG</td>\n",
       "      <td>7/14/2022 20:32</td>\n",
       "      <td>-6.2167</td>\n",
       "      <td>155.6333</td>\n",
       "      <td>78.746</td>\n",
       "      <td>80</td>\n",
       "      <td>100</td>\n",
       "      <td>2.43</td>\n",
       "    </tr>\n",
       "    <tr>\n",
       "      <th>14</th>\n",
       "      <td>14</td>\n",
       "      <td>Saint-Georges</td>\n",
       "      <td>GD</td>\n",
       "      <td>7/14/2022 20:30</td>\n",
       "      <td>12.0564</td>\n",
       "      <td>-61.7485</td>\n",
       "      <td>85.676</td>\n",
       "      <td>70</td>\n",
       "      <td>40</td>\n",
       "      <td>5.14</td>\n",
       "    </tr>\n",
       "    <tr>\n",
       "      <th>22</th>\n",
       "      <td>22</td>\n",
       "      <td>Marsassoum</td>\n",
       "      <td>SN</td>\n",
       "      <td>7/14/2022 20:32</td>\n",
       "      <td>12.8275</td>\n",
       "      <td>-15.9806</td>\n",
       "      <td>77.090</td>\n",
       "      <td>81</td>\n",
       "      <td>100</td>\n",
       "      <td>3.41</td>\n",
       "    </tr>\n",
       "    <tr>\n",
       "      <th>25</th>\n",
       "      <td>25</td>\n",
       "      <td>Hilo</td>\n",
       "      <td>US</td>\n",
       "      <td>7/14/2022 20:30</td>\n",
       "      <td>19.7297</td>\n",
       "      <td>-155.0900</td>\n",
       "      <td>86.288</td>\n",
       "      <td>73</td>\n",
       "      <td>75</td>\n",
       "      <td>3.13</td>\n",
       "    </tr>\n",
       "    <tr>\n",
       "      <th>28</th>\n",
       "      <td>28</td>\n",
       "      <td>Samastipur</td>\n",
       "      <td>IN</td>\n",
       "      <td>7/14/2022 20:32</td>\n",
       "      <td>25.8500</td>\n",
       "      <td>85.7833</td>\n",
       "      <td>88.718</td>\n",
       "      <td>60</td>\n",
       "      <td>13</td>\n",
       "      <td>4.43</td>\n",
       "    </tr>\n",
       "    <tr>\n",
       "      <th>30</th>\n",
       "      <td>30</td>\n",
       "      <td>Ugoofaaru</td>\n",
       "      <td>MV</td>\n",
       "      <td>7/14/2022 20:32</td>\n",
       "      <td>5.6667</td>\n",
       "      <td>73.0000</td>\n",
       "      <td>82.832</td>\n",
       "      <td>78</td>\n",
       "      <td>79</td>\n",
       "      <td>8.01</td>\n",
       "    </tr>\n",
       "    <tr>\n",
       "      <th>31</th>\n",
       "      <td>31</td>\n",
       "      <td>Eyl</td>\n",
       "      <td>SO</td>\n",
       "      <td>7/14/2022 20:32</td>\n",
       "      <td>7.9803</td>\n",
       "      <td>49.8164</td>\n",
       "      <td>79.322</td>\n",
       "      <td>74</td>\n",
       "      <td>94</td>\n",
       "      <td>11.20</td>\n",
       "    </tr>\n",
       "  </tbody>\n",
       "</table>\n",
       "</div>"
      ],
      "text/plain": [
       "    City_ID           City Country             Date      Lat       Lng  \\\n",
       "1         1          Alofi      NU  7/14/2022 20:32 -19.0595 -169.9187   \n",
       "8         8         Albany      US  7/14/2022 20:31  42.6001  -73.9662   \n",
       "10       10         Faanui      PF  7/14/2022 20:32 -16.4833 -151.7500   \n",
       "13       13          Kieta      PG  7/14/2022 20:32  -6.2167  155.6333   \n",
       "14       14  Saint-Georges      GD  7/14/2022 20:30  12.0564  -61.7485   \n",
       "22       22     Marsassoum      SN  7/14/2022 20:32  12.8275  -15.9806   \n",
       "25       25           Hilo      US  7/14/2022 20:30  19.7297 -155.0900   \n",
       "28       28     Samastipur      IN  7/14/2022 20:32  25.8500   85.7833   \n",
       "30       30      Ugoofaaru      MV  7/14/2022 20:32   5.6667   73.0000   \n",
       "31       31            Eyl      SO  7/14/2022 20:32   7.9803   49.8164   \n",
       "\n",
       "    Max Temp  Humidity  Cloudiness  Wind Speed  \n",
       "1     76.892        78          75        7.20  \n",
       "8     83.048        45          69        0.89  \n",
       "10    77.828        63         100       10.54  \n",
       "13    78.746        80         100        2.43  \n",
       "14    85.676        70          40        5.14  \n",
       "22    77.090        81         100        3.41  \n",
       "25    86.288        73          75        3.13  \n",
       "28    88.718        60          13        4.43  \n",
       "30    82.832        78          79        8.01  \n",
       "31    79.322        74          94       11.20  "
      ]
     },
     "execution_count": 12,
     "metadata": {},
     "output_type": "execute_result"
    }
   ],
   "source": [
    "# Filter the dataset to find the cities that fit the criteria.\n",
    "\n",
    "preferred_cities_df = city_data_df.loc[(city_data_df[\"Max Temp\"] <= max_temp) & (city_data_df[\"Max Temp\"] >= min_temp)] \n",
    "preferred_cities_df.head(10)\n",
    "\n",
    "#preferred_cities_df.head(10)\n",
    "#city_data_df[\"Max Temp\"]\n"
   ]
  },
  {
   "cell_type": "code",
   "execution_count": 13,
   "id": "7931586b",
   "metadata": {},
   "outputs": [
    {
     "data": {
      "text/plain": [
       "City_ID       205\n",
       "City          205\n",
       "Country       205\n",
       "Date          205\n",
       "Lat           205\n",
       "Lng           205\n",
       "Max Temp      205\n",
       "Humidity      205\n",
       "Cloudiness    205\n",
       "Wind Speed    205\n",
       "dtype: int64"
      ]
     },
     "execution_count": 13,
     "metadata": {},
     "output_type": "execute_result"
    }
   ],
   "source": [
    "\n",
    "preferred_cities_df.count()\n"
   ]
  },
  {
   "cell_type": "markdown",
   "id": "6f88bab6",
   "metadata": {},
   "source": [
    "## 6.5.4 Map Vacation Criteria"
   ]
  },
  {
   "cell_type": "code",
   "execution_count": 14,
   "id": "feecdd76",
   "metadata": {},
   "outputs": [
    {
     "data": {
      "text/html": [
       "<div>\n",
       "<style scoped>\n",
       "    .dataframe tbody tr th:only-of-type {\n",
       "        vertical-align: middle;\n",
       "    }\n",
       "\n",
       "    .dataframe tbody tr th {\n",
       "        vertical-align: top;\n",
       "    }\n",
       "\n",
       "    .dataframe thead th {\n",
       "        text-align: right;\n",
       "    }\n",
       "</style>\n",
       "<table border=\"1\" class=\"dataframe\">\n",
       "  <thead>\n",
       "    <tr style=\"text-align: right;\">\n",
       "      <th></th>\n",
       "      <th>City</th>\n",
       "      <th>Country</th>\n",
       "      <th>Max Temp</th>\n",
       "      <th>Lat</th>\n",
       "      <th>Lng</th>\n",
       "      <th>Hotel Name</th>\n",
       "    </tr>\n",
       "  </thead>\n",
       "  <tbody>\n",
       "    <tr>\n",
       "      <th>1</th>\n",
       "      <td>Alofi</td>\n",
       "      <td>NU</td>\n",
       "      <td>76.892</td>\n",
       "      <td>-19.0595</td>\n",
       "      <td>-169.9187</td>\n",
       "      <td></td>\n",
       "    </tr>\n",
       "    <tr>\n",
       "      <th>8</th>\n",
       "      <td>Albany</td>\n",
       "      <td>US</td>\n",
       "      <td>83.048</td>\n",
       "      <td>42.6001</td>\n",
       "      <td>-73.9662</td>\n",
       "      <td></td>\n",
       "    </tr>\n",
       "    <tr>\n",
       "      <th>10</th>\n",
       "      <td>Faanui</td>\n",
       "      <td>PF</td>\n",
       "      <td>77.828</td>\n",
       "      <td>-16.4833</td>\n",
       "      <td>-151.7500</td>\n",
       "      <td></td>\n",
       "    </tr>\n",
       "    <tr>\n",
       "      <th>13</th>\n",
       "      <td>Kieta</td>\n",
       "      <td>PG</td>\n",
       "      <td>78.746</td>\n",
       "      <td>-6.2167</td>\n",
       "      <td>155.6333</td>\n",
       "      <td></td>\n",
       "    </tr>\n",
       "    <tr>\n",
       "      <th>14</th>\n",
       "      <td>Saint-Georges</td>\n",
       "      <td>GD</td>\n",
       "      <td>85.676</td>\n",
       "      <td>12.0564</td>\n",
       "      <td>-61.7485</td>\n",
       "      <td></td>\n",
       "    </tr>\n",
       "    <tr>\n",
       "      <th>22</th>\n",
       "      <td>Marsassoum</td>\n",
       "      <td>SN</td>\n",
       "      <td>77.090</td>\n",
       "      <td>12.8275</td>\n",
       "      <td>-15.9806</td>\n",
       "      <td></td>\n",
       "    </tr>\n",
       "    <tr>\n",
       "      <th>25</th>\n",
       "      <td>Hilo</td>\n",
       "      <td>US</td>\n",
       "      <td>86.288</td>\n",
       "      <td>19.7297</td>\n",
       "      <td>-155.0900</td>\n",
       "      <td></td>\n",
       "    </tr>\n",
       "    <tr>\n",
       "      <th>28</th>\n",
       "      <td>Samastipur</td>\n",
       "      <td>IN</td>\n",
       "      <td>88.718</td>\n",
       "      <td>25.8500</td>\n",
       "      <td>85.7833</td>\n",
       "      <td></td>\n",
       "    </tr>\n",
       "    <tr>\n",
       "      <th>30</th>\n",
       "      <td>Ugoofaaru</td>\n",
       "      <td>MV</td>\n",
       "      <td>82.832</td>\n",
       "      <td>5.6667</td>\n",
       "      <td>73.0000</td>\n",
       "      <td></td>\n",
       "    </tr>\n",
       "    <tr>\n",
       "      <th>31</th>\n",
       "      <td>Eyl</td>\n",
       "      <td>SO</td>\n",
       "      <td>79.322</td>\n",
       "      <td>7.9803</td>\n",
       "      <td>49.8164</td>\n",
       "      <td></td>\n",
       "    </tr>\n",
       "  </tbody>\n",
       "</table>\n",
       "</div>"
      ],
      "text/plain": [
       "             City Country  Max Temp      Lat       Lng Hotel Name\n",
       "1           Alofi      NU    76.892 -19.0595 -169.9187           \n",
       "8          Albany      US    83.048  42.6001  -73.9662           \n",
       "10         Faanui      PF    77.828 -16.4833 -151.7500           \n",
       "13          Kieta      PG    78.746  -6.2167  155.6333           \n",
       "14  Saint-Georges      GD    85.676  12.0564  -61.7485           \n",
       "22     Marsassoum      SN    77.090  12.8275  -15.9806           \n",
       "25           Hilo      US    86.288  19.7297 -155.0900           \n",
       "28     Samastipur      IN    88.718  25.8500   85.7833           \n",
       "30      Ugoofaaru      MV    82.832   5.6667   73.0000           \n",
       "31            Eyl      SO    79.322   7.9803   49.8164           "
      ]
     },
     "execution_count": 14,
     "metadata": {},
     "output_type": "execute_result"
    }
   ],
   "source": [
    "# Create DataFrame called hotel_df to store hotel names along with city, country, max temp, and coordinates.\n",
    "\n",
    "hotel_df = preferred_cities_df[[\"City\", \"Country\", \"Max Temp\", \"Lat\", \"Lng\"]].copy()\n",
    "hotel_df[\"Hotel Name\"] = \"\"\n",
    "hotel_df.head(10)\n"
   ]
  },
  {
   "cell_type": "markdown",
   "id": "6f00cb23",
   "metadata": {},
   "source": [
    "## Retrieve Hotels from a Nearby Search"
   ]
  },
  {
   "cell_type": "code",
   "execution_count": 15,
   "id": "68deefe4",
   "metadata": {},
   "outputs": [],
   "source": [
    "# Dependencies and Setup\n",
    "\n",
    "import requests\n",
    "import gmaps\n",
    "\n",
    "# Import API key\n",
    "from config import g_key\n"
   ]
  },
  {
   "cell_type": "code",
   "execution_count": null,
   "id": "91e16782",
   "metadata": {},
   "outputs": [],
   "source": [
    "# Set the parameters to search for a hotel in Paris.\n",
    "\n",
    "params = {\n",
    "    \"radius\": 5000,\n",
    "    \"types\": \"lodging\",\n",
    "    \"key\": g_key,\n",
    "    \"location\": \"48.8566, 2.3522\"}\n",
    "# Use base URL to search for hotels in Paris.\n",
    "base_url = \"https://maps.googleapis.com/maps/api/place/nearbysearch/json\"\n",
    "# Make request and get the JSON data from the search.\n",
    "hotels = requests.get(base_url, params=params).json()\n",
    "\n",
    "hotels"
   ]
  },
  {
   "cell_type": "code",
   "execution_count": null,
   "id": "fe647ff3",
   "metadata": {},
   "outputs": [],
   "source": [
    "# Set parameters to search for a hotel.\n",
    "params = {\n",
    "    \"radius\": 5000,\n",
    "    \"type\": \"lodging\",\n",
    "    \"key\": g_key\n",
    "}\n",
    "\n",
    "# Iterate through the DataFrame.\n",
    "for index, row in hotel_df.iterrows():\n",
    "    \n",
    "    # Get the latitude and longitude.\n",
    "    lat = row[\"Lat\"]\n",
    "    lng = row[\"Lng\"]\n",
    "\n",
    "    # Add the latitude and longitude to location key for the params dictionary.\n",
    "    params[\"location\"] = f\"{lat},{lng}\"\n",
    "\n",
    "    # Use the search term: \"lodging\" and our latitude and longitude.\n",
    "    base_url = \"https://maps.googleapis.com/maps/api/place/nearbysearch/json\"\n",
    "    \n",
    "    # Make request and get the JSON data from the search.\n",
    "    hotels = requests.get(base_url, params=params).json()\n",
    "    \n",
    "    # Grab the first hotel from the results and store the name.\n",
    "    try:\n",
    "        hotel_df.loc[index, \"Hotel Name\"] = hotels[\"results\"][0][\"name\"]\n",
    "    except (IndexError):\n",
    "        print(\"Hotel not found... skipping.\")\n",
    "\n",
    "hotel_df.head(10)\n"
   ]
  },
  {
   "cell_type": "markdown",
   "id": "1cb4387d",
   "metadata": {},
   "source": [
    "## Create a Maximum Temperature Heatmap from a Hotel DataFrame\n"
   ]
  },
  {
   "cell_type": "code",
   "execution_count": 19,
   "id": "85dda2cc",
   "metadata": {},
   "outputs": [
    {
     "data": {
      "application/vnd.jupyter.widget-view+json": {
       "model_id": "c6c22bad570346909e6984d47c70e95f",
       "version_major": 2,
       "version_minor": 0
      },
      "text/plain": [
       "Figure(layout=FigureLayout(height='420px'))"
      ]
     },
     "metadata": {},
     "output_type": "display_data"
    }
   ],
   "source": [
    "# Add a heatmap of temperature for the vacation spots.\n",
    "\n",
    "locations = hotel_df[[\"Lat\", \"Lng\"]]\n",
    "max_temp = hotel_df[\"Max Temp\"]\n",
    "fig = gmaps.figure(center=(30.0, 31.0), zoom_level=1.5)\n",
    "heat_layer = gmaps.heatmap_layer(locations, weights=max_temp, dissipating=False,\n",
    "             max_intensity=300, point_radius=4)\n",
    "\n",
    "fig.add_layer(heat_layer)\n",
    "# Call the figure to plot the data.\n",
    "fig\n"
   ]
  },
  {
   "cell_type": "code",
   "execution_count": 20,
   "id": "9f7b6ed8",
   "metadata": {},
   "outputs": [
    {
     "data": {
      "application/vnd.jupyter.widget-view+json": {
       "model_id": "5c3dd1845e8041cca1db960955737420",
       "version_major": 2,
       "version_minor": 0
      },
      "text/plain": [
       "Figure(layout=FigureLayout(height='420px'))"
      ]
     },
     "metadata": {},
     "output_type": "display_data"
    }
   ],
   "source": [
    "# Add a heatmap of temperature for the vacation spots and marker for each city.\n",
    "\n",
    "locations = hotel_df[[\"Lat\", \"Lng\"]]\n",
    "max_temp = hotel_df[\"Max Temp\"]\n",
    "fig = gmaps.figure(center=(30.0, 31.0), zoom_level=1.5)\n",
    "heat_layer = gmaps.heatmap_layer(locations, weights=max_temp, \n",
    "             dissipating=False, max_intensity=300, point_radius=4)\n",
    "marker_layer = gmaps.marker_layer(locations)\n",
    "fig.add_layer(heat_layer)\n",
    "fig.add_layer(marker_layer)\n",
    "# Call the figure to plot the data.\n",
    "fig\n"
   ]
  },
  {
   "cell_type": "code",
   "execution_count": 21,
   "id": "8536e66a",
   "metadata": {},
   "outputs": [],
   "source": [
    "info_box_template = \"\"\"\n",
    "<dl>\n",
    "<dt>Name</dt><dd>{column1}</dd>\n",
    "<dt>Another name</dt><dd>{column2}</dd>\n",
    "</dl>\n",
    "\"\"\""
   ]
  },
  {
   "cell_type": "markdown",
   "id": "d07649de",
   "metadata": {},
   "source": [
    "### This is a new code block, so let’s review its form and function.\n",
    "\n",
    "First, the info_box_template variable is assigned to a multiline string using three quotes. The text inside the multiline string is HTML code. HTML code is defined by the opening and closing the angular brackets (e.g., <tag> and <tag/>). Angular brackets always come in pairs. The opening angular bracket is followed by some text inside, such as dl, dt, and dd. The closing angular bracket is preceded by a forward-slash (“/”). The text inside with the angular brackets is called a tag. We’ll see more examples of HTML code in an upcoming module.\n",
    "\n",
    "Here’s what these tags mean:\n",
    "\n",
    "The <dl> tag is a description list (dl).\n",
    "\n",
    "The <dt> tag is a term or name in a description list that is nested under the <dl> tag.\n",
    "\n",
    "The <dd> tag is used to define the term or name or <dt> tag.\n",
    "\n",
    "If we were to write out these tags on paper, it would look like this.\n",
    "\n",
    "Description List: <dl>\n",
    "Description Term: <dt>\n",
    "Description Definition: <dd>\n",
    "Description Term: <dt>\n",
    "Description Definition: <dd>\n",
    "For our purposes, we’ll add the hotel name, city name, country code, and the maximum temperature values from the hotel_df DataFrame as the description definition. Our code will look like the following."
   ]
  },
  {
   "cell_type": "code",
   "execution_count": 22,
   "id": "93265f42",
   "metadata": {},
   "outputs": [],
   "source": [
    "info_box_template = \"\"\"\n",
    "<dl>\n",
    "<dt>Hotel Name</dt><dd>{Hotel Name}</dd>\n",
    "<dt>City</dt><dd>{City}</dd>\n",
    "<dt>Country</dt><dd>{Country}</dd>\n",
    "<dt>Max Temp</dt><dd>{Max Temp} °F</dd>\n",
    "</dl>\n",
    "\"\"\""
   ]
  },
  {
   "cell_type": "code",
   "execution_count": 23,
   "id": "3217c821",
   "metadata": {},
   "outputs": [],
   "source": [
    "# Store the DataFrame Row.\n",
    "hotel_info = [info_box_template.format(**row) for index, row in hotel_df.iterrows()]\n"
   ]
  },
  {
   "cell_type": "code",
   "execution_count": 24,
   "id": "424ab313",
   "metadata": {},
   "outputs": [
    {
     "data": {
      "application/vnd.jupyter.widget-view+json": {
       "model_id": "8f0656bfc1cd4a919bf21dfb377900c1",
       "version_major": 2,
       "version_minor": 0
      },
      "text/plain": [
       "Figure(layout=FigureLayout(height='420px'))"
      ]
     },
     "metadata": {},
     "output_type": "display_data"
    }
   ],
   "source": [
    "# Add a heatmap of temperature for the vacation spots and a pop-up marker for each city.\n",
    "\n",
    "locations = hotel_df[[\"Lat\", \"Lng\"]]\n",
    "max_temp = hotel_df[\"Max Temp\"]\n",
    "fig = gmaps.figure(center=(30.0, 31.0), zoom_level=1.5)\n",
    "heat_layer = gmaps.heatmap_layer(locations, weights=max_temp,dissipating=False,\n",
    "             max_intensity=300, point_radius=4)\n",
    "marker_layer = gmaps.marker_layer(locations, info_box_content=hotel_info)\n",
    "fig.add_layer(heat_layer)\n",
    "fig.add_layer(marker_layer)\n",
    "\n",
    "# Call the figure to plot the data.\n",
    "fig\n"
   ]
  },
  {
   "cell_type": "code",
   "execution_count": null,
   "id": "7d61b20a",
   "metadata": {},
   "outputs": [],
   "source": []
  }
 ],
 "metadata": {
  "kernelspec": {
   "display_name": "PythonData",
   "language": "python",
   "name": "pythondata"
  },
  "language_info": {
   "codemirror_mode": {
    "name": "ipython",
    "version": 3
   },
   "file_extension": ".py",
   "mimetype": "text/x-python",
   "name": "python",
   "nbconvert_exporter": "python",
   "pygments_lexer": "ipython3",
   "version": "3.7.13"
  }
 },
 "nbformat": 4,
 "nbformat_minor": 5
}
